{
 "cells": [
  {
   "cell_type": "markdown",
   "id": "db585377",
   "metadata": {
    "heading_collapsed": true
   },
   "source": [
    "# IMPORTS"
   ]
  },
  {
   "cell_type": "markdown",
   "id": "50dbabe5",
   "metadata": {
    "heading_collapsed": true,
    "hidden": true
   },
   "source": [
    "## Bibliotecas"
   ]
  },
  {
   "cell_type": "code",
   "execution_count": 139,
   "id": "33b00120",
   "metadata": {
    "ExecuteTime": {
     "end_time": "2023-04-24T21:32:33.366103Z",
     "start_time": "2023-04-24T21:32:33.347866Z"
    },
    "hidden": true
   },
   "outputs": [],
   "source": [
    "import pandas as pd\n",
    "import inflection\n",
    "import math\n",
    "import numpy as np\n",
    "import seaborn as sns\n",
    "import matplotlib.pyplot as plt\n",
    "\n",
    "from IPython.core.display import HTML"
   ]
  },
  {
   "cell_type": "markdown",
   "id": "2edfe943",
   "metadata": {
    "heading_collapsed": true,
    "hidden": true
   },
   "source": [
    "## Funções Auxiliares"
   ]
  },
  {
   "cell_type": "code",
   "execution_count": 140,
   "id": "80743f9b",
   "metadata": {
    "ExecuteTime": {
     "end_time": "2023-04-24T21:32:41.634152Z",
     "start_time": "2023-04-24T21:32:41.608332Z"
    },
    "hidden": true
   },
   "outputs": [
    {
     "name": "stdout",
     "output_type": "stream",
     "text": [
      "%pylab is deprecated, use %matplotlib inline and import the required libraries.\n",
      "Populating the interactive namespace from numpy and matplotlib\n"
     ]
    },
    {
     "data": {
      "text/html": [
       "<style>.container { width:100% !important; }</style>"
      ],
      "text/plain": [
       "<IPython.core.display.HTML object>"
      ]
     },
     "metadata": {},
     "output_type": "display_data"
    }
   ],
   "source": [
    "# Função para expandir o notebook na página toda.\n",
    "def jupyter_settings():\n",
    "    %matplotlib inline\n",
    "    %pylab inline\n",
    "    \n",
    "    plt.style.use( 'bmh' )\n",
    "    plt.rcParams['figure.figsize'] = [25, 12]\n",
    "    plt.rcParams['font.size'] = 24\n",
    "    \n",
    "    display( HTML( '<style>.container { width:100% !important; }</style>') )\n",
    "    pd.options.display.max_columns = None\n",
    "    pd.options.display.max_rows = None\n",
    "    pd.set_option( 'display.expand_frame_repr', False )\n",
    "    \n",
    "jupyter_settings()"
   ]
  },
  {
   "cell_type": "markdown",
   "id": "20281b88",
   "metadata": {
    "heading_collapsed": true,
    "hidden": true
   },
   "source": [
    "## Carregando Dados"
   ]
  },
  {
   "cell_type": "code",
   "execution_count": 2,
   "id": "da308456",
   "metadata": {
    "ExecuteTime": {
     "end_time": "2023-04-24T12:02:04.379524Z",
     "start_time": "2023-04-24T12:02:02.667642Z"
    },
    "hidden": true
   },
   "outputs": [],
   "source": [
    "df_sales_raw = pd.read_csv('dataset/train.csv', low_memory=False)\n",
    "df_store_raw = pd.read_csv('dataset/store.csv', low_memory=False)\n",
    "\n",
    "# merge dos df\n",
    "df_raw = pd.merge(df_sales_raw, df_store_raw, how='left', on='Store')"
   ]
  },
  {
   "cell_type": "code",
   "execution_count": 6,
   "id": "a2a86251",
   "metadata": {
    "ExecuteTime": {
     "end_time": "2023-04-23T18:29:51.580356Z",
     "start_time": "2023-04-23T18:29:51.463522Z"
    },
    "hidden": true
   },
   "outputs": [
    {
     "data": {
      "text/html": [
       "<div>\n",
       "<style scoped>\n",
       "    .dataframe tbody tr th:only-of-type {\n",
       "        vertical-align: middle;\n",
       "    }\n",
       "\n",
       "    .dataframe tbody tr th {\n",
       "        vertical-align: top;\n",
       "    }\n",
       "\n",
       "    .dataframe thead th {\n",
       "        text-align: right;\n",
       "    }\n",
       "</style>\n",
       "<table border=\"1\" class=\"dataframe\">\n",
       "  <thead>\n",
       "    <tr style=\"text-align: right;\">\n",
       "      <th></th>\n",
       "      <th>Store</th>\n",
       "      <th>DayOfWeek</th>\n",
       "      <th>Date</th>\n",
       "      <th>Sales</th>\n",
       "      <th>Customers</th>\n",
       "      <th>Open</th>\n",
       "      <th>Promo</th>\n",
       "      <th>StateHoliday</th>\n",
       "      <th>SchoolHoliday</th>\n",
       "      <th>StoreType</th>\n",
       "      <th>Assortment</th>\n",
       "      <th>CompetitionDistance</th>\n",
       "      <th>CompetitionOpenSinceMonth</th>\n",
       "      <th>CompetitionOpenSinceYear</th>\n",
       "      <th>Promo2</th>\n",
       "      <th>Promo2SinceWeek</th>\n",
       "      <th>Promo2SinceYear</th>\n",
       "      <th>PromoInterval</th>\n",
       "    </tr>\n",
       "  </thead>\n",
       "  <tbody>\n",
       "    <tr>\n",
       "      <th>649803</th>\n",
       "      <td>544</td>\n",
       "      <td>2</td>\n",
       "      <td>2013-11-26</td>\n",
       "      <td>14556</td>\n",
       "      <td>1993</td>\n",
       "      <td>1</td>\n",
       "      <td>0</td>\n",
       "      <td>0</td>\n",
       "      <td>0</td>\n",
       "      <td>a</td>\n",
       "      <td>a</td>\n",
       "      <td>250.0</td>\n",
       "      <td>12.0</td>\n",
       "      <td>2001.0</td>\n",
       "      <td>1</td>\n",
       "      <td>13.0</td>\n",
       "      <td>2010.0</td>\n",
       "      <td>Jan,Apr,Jul,Oct</td>\n",
       "    </tr>\n",
       "  </tbody>\n",
       "</table>\n",
       "</div>"
      ],
      "text/plain": [
       "        Store  DayOfWeek        Date  Sales  Customers  Open  Promo   \n",
       "649803    544          2  2013-11-26  14556       1993     1      0  \\\n",
       "\n",
       "       StateHoliday  SchoolHoliday StoreType Assortment  CompetitionDistance   \n",
       "649803            0              0         a          a                250.0  \\\n",
       "\n",
       "        CompetitionOpenSinceMonth  CompetitionOpenSinceYear  Promo2   \n",
       "649803                       12.0                    2001.0       1  \\\n",
       "\n",
       "        Promo2SinceWeek  Promo2SinceYear    PromoInterval  \n",
       "649803             13.0           2010.0  Jan,Apr,Jul,Oct  "
      ]
     },
     "execution_count": 6,
     "metadata": {},
     "output_type": "execute_result"
    }
   ],
   "source": [
    "df_raw.sample()"
   ]
  },
  {
   "cell_type": "markdown",
   "id": "35c790eb",
   "metadata": {},
   "source": [
    "# PASSO 01 - DESCRIÇÃO DOS DADOS"
   ]
  },
  {
   "cell_type": "code",
   "execution_count": 3,
   "id": "4f51abf6",
   "metadata": {
    "ExecuteTime": {
     "end_time": "2023-04-24T12:02:08.017684Z",
     "start_time": "2023-04-24T12:02:07.767133Z"
    }
   },
   "outputs": [],
   "source": [
    "# Fazendo cópia do df para essa sessão.\n",
    "df_1 = df_raw.copy()"
   ]
  },
  {
   "cell_type": "markdown",
   "id": "52b8ed4b",
   "metadata": {},
   "source": [
    "## Renomear colunas"
   ]
  },
  {
   "cell_type": "code",
   "execution_count": 11,
   "id": "8b74dc3e",
   "metadata": {
    "ExecuteTime": {
     "end_time": "2023-04-23T18:32:52.560810Z",
     "start_time": "2023-04-23T18:32:52.545223Z"
    }
   },
   "outputs": [
    {
     "data": {
      "text/plain": [
       "Index(['Store', 'DayOfWeek', 'Date', 'Sales', 'Customers', 'Open', 'Promo',\n",
       "       'StateHoliday', 'SchoolHoliday', 'StoreType', 'Assortment',\n",
       "       'CompetitionDistance', 'CompetitionOpenSinceMonth',\n",
       "       'CompetitionOpenSinceYear', 'Promo2', 'Promo2SinceWeek',\n",
       "       'Promo2SinceYear', 'PromoInterval'],\n",
       "      dtype='object')"
      ]
     },
     "execution_count": 11,
     "metadata": {},
     "output_type": "execute_result"
    }
   ],
   "source": [
    "df_1.columns"
   ]
  },
  {
   "cell_type": "code",
   "execution_count": 4,
   "id": "3d66d012",
   "metadata": {
    "ExecuteTime": {
     "end_time": "2023-04-24T12:02:15.853319Z",
     "start_time": "2023-04-24T12:02:15.840731Z"
    }
   },
   "outputs": [],
   "source": [
    "cols_old = ['Store', 'DayOfWeek', 'Date', 'Sales', 'Customers', 'Open', 'Promo', 'StateHoliday', 'SchoolHoliday', 'StoreType',\n",
    "'Assortment', 'CompetitionDistance', 'CompetitionOpenSinceMonth', 'CompetitionOpenSinceYear', 'Promo2', 'Promo2SinceWeek',\n",
    "'Promo2SinceYear', 'PromoInterval']\n",
    "\n",
    "# Mudar o estilo das colunas para snake case.\n",
    "snake_case = lambda x: inflection.underscore(x) # O método underscore() aplica o formato snake case.\n",
    "\n",
    "cols_new = list(map(snake_case, cols_old))\n",
    "\n",
    "# rename.\n",
    "df_1.columns = cols_new"
   ]
  },
  {
   "cell_type": "code",
   "execution_count": 5,
   "id": "77a5bedf",
   "metadata": {
    "ExecuteTime": {
     "end_time": "2023-04-24T12:02:18.647088Z",
     "start_time": "2023-04-24T12:02:18.625189Z"
    }
   },
   "outputs": [
    {
     "data": {
      "text/plain": [
       "Index(['store', 'day_of_week', 'date', 'sales', 'customers', 'open', 'promo',\n",
       "       'state_holiday', 'school_holiday', 'store_type', 'assortment',\n",
       "       'competition_distance', 'competition_open_since_month',\n",
       "       'competition_open_since_year', 'promo2', 'promo2_since_week',\n",
       "       'promo2_since_year', 'promo_interval'],\n",
       "      dtype='object')"
      ]
     },
     "execution_count": 5,
     "metadata": {},
     "output_type": "execute_result"
    }
   ],
   "source": [
    "# Colunas no estilo snake case.\n",
    "df_1.columns"
   ]
  },
  {
   "cell_type": "markdown",
   "id": "f78ca64e",
   "metadata": {},
   "source": [
    "## Dimensão dos Dados"
   ]
  },
  {
   "cell_type": "code",
   "execution_count": 18,
   "id": "63773986",
   "metadata": {
    "ExecuteTime": {
     "end_time": "2023-04-23T18:48:13.152041Z",
     "start_time": "2023-04-23T18:48:13.131590Z"
    }
   },
   "outputs": [
    {
     "name": "stdout",
     "output_type": "stream",
     "text": [
      "Número de Linhas: 1017209\n",
      "Número de Colunas: 18\n"
     ]
    }
   ],
   "source": [
    "print(f'Número de Linhas: {df_1.shape[0]}')\n",
    "print(f'Número de Colunas: {df_1.shape[1]}')"
   ]
  },
  {
   "cell_type": "markdown",
   "id": "9dc8dfbc",
   "metadata": {},
   "source": [
    "## Tipo dos Dados"
   ]
  },
  {
   "cell_type": "code",
   "execution_count": 20,
   "id": "403445ed",
   "metadata": {
    "ExecuteTime": {
     "end_time": "2023-04-23T18:50:25.047318Z",
     "start_time": "2023-04-23T18:50:25.033966Z"
    }
   },
   "outputs": [
    {
     "data": {
      "text/plain": [
       "store                             int64\n",
       "day_of_week                       int64\n",
       "date                             object\n",
       "sales                             int64\n",
       "customers                         int64\n",
       "open                              int64\n",
       "promo                             int64\n",
       "state_holiday                    object\n",
       "school_holiday                    int64\n",
       "store_type                       object\n",
       "assortment                       object\n",
       "competition_distance            float64\n",
       "competition_open_since_month    float64\n",
       "competition_open_since_year     float64\n",
       "promo2                            int64\n",
       "promo2_since_week               float64\n",
       "promo2_since_year               float64\n",
       "promo_interval                   object\n",
       "dtype: object"
      ]
     },
     "execution_count": 20,
     "metadata": {},
     "output_type": "execute_result"
    }
   ],
   "source": [
    "df_1.dtypes"
   ]
  },
  {
   "cell_type": "code",
   "execution_count": 6,
   "id": "d9bc1d60",
   "metadata": {
    "ExecuteTime": {
     "end_time": "2023-04-24T12:02:28.295681Z",
     "start_time": "2023-04-24T12:02:28.064890Z"
    }
   },
   "outputs": [
    {
     "data": {
      "text/plain": [
       "store                                    int64\n",
       "day_of_week                              int64\n",
       "date                            datetime64[ns]\n",
       "sales                                    int64\n",
       "customers                                int64\n",
       "open                                     int64\n",
       "promo                                    int64\n",
       "state_holiday                           object\n",
       "school_holiday                           int64\n",
       "store_type                              object\n",
       "assortment                              object\n",
       "competition_distance                   float64\n",
       "competition_open_since_month           float64\n",
       "competition_open_since_year            float64\n",
       "promo2                                   int64\n",
       "promo2_since_week                      float64\n",
       "promo2_since_year                      float64\n",
       "promo_interval                          object\n",
       "dtype: object"
      ]
     },
     "execution_count": 6,
     "metadata": {},
     "output_type": "execute_result"
    }
   ],
   "source": [
    "# Mudar o tipo da variável 'date' para data.\n",
    "df_1['date'] = pd.to_datetime(df_1['date'])\n",
    "\n",
    "df_1.dtypes"
   ]
  },
  {
   "cell_type": "markdown",
   "id": "2259626d",
   "metadata": {},
   "source": [
    "## Verificar/Tratar os NA"
   ]
  },
  {
   "cell_type": "code",
   "execution_count": 7,
   "id": "89cd1bc4",
   "metadata": {
    "ExecuteTime": {
     "end_time": "2023-04-24T12:02:39.160717Z",
     "start_time": "2023-04-24T12:02:38.846015Z"
    }
   },
   "outputs": [
    {
     "data": {
      "text/plain": [
       "store                                0\n",
       "day_of_week                          0\n",
       "date                                 0\n",
       "sales                                0\n",
       "customers                            0\n",
       "open                                 0\n",
       "promo                                0\n",
       "state_holiday                        0\n",
       "school_holiday                       0\n",
       "store_type                           0\n",
       "assortment                           0\n",
       "competition_distance              2642\n",
       "competition_open_since_month    323348\n",
       "competition_open_since_year     323348\n",
       "promo2                               0\n",
       "promo2_since_week               508031\n",
       "promo2_since_year               508031\n",
       "promo_interval                  508031\n",
       "dtype: int64"
      ]
     },
     "execution_count": 7,
     "metadata": {},
     "output_type": "execute_result"
    }
   ],
   "source": [
    "# Mostrar a soma de linhas NA por coluna.\n",
    "df_1.isna().sum()\n",
    "# As colunas com zero significa que essas colunas não possuem NA."
   ]
  },
  {
   "cell_type": "markdown",
   "id": "541b28ac",
   "metadata": {
    "heading_collapsed": true
   },
   "source": [
    "### Preencher os NA"
   ]
  },
  {
   "cell_type": "markdown",
   "id": "16d201f0",
   "metadata": {
    "heading_collapsed": true,
    "hidden": true
   },
   "source": [
    "#### competition_distance"
   ]
  },
  {
   "cell_type": "markdown",
   "id": "bf0283f4",
   "metadata": {
    "hidden": true
   },
   "source": [
    "**competition_distance** - distância em metros até a loja concorrente mais próxima.\n",
    "\n",
    "Se está NA significa que eu não tenho loja concorrente próxima, ou seja, está tão longe que não é considerado uma loja concorrente.\n",
    "\n",
    "Dito isso, se eu preencher esses NA com um distância muito grande, maior que o máximo que tenho no meu df da no mesmo que dizer que não tem loja concorrente. "
   ]
  },
  {
   "cell_type": "code",
   "execution_count": 8,
   "id": "7a1c882e",
   "metadata": {
    "ExecuteTime": {
     "end_time": "2023-04-24T12:02:42.319547Z",
     "start_time": "2023-04-24T12:02:42.290750Z"
    },
    "hidden": true
   },
   "outputs": [
    {
     "data": {
      "text/plain": [
       "75860.0"
      ]
     },
     "execution_count": 8,
     "metadata": {},
     "output_type": "execute_result"
    }
   ],
   "source": [
    "# Maior distância até a loja concorrente mais próxima.\n",
    "df_1['competition_distance'].max()"
   ]
  },
  {
   "cell_type": "code",
   "execution_count": 9,
   "id": "e1e334e0",
   "metadata": {
    "ExecuteTime": {
     "end_time": "2023-04-24T12:02:46.537948Z",
     "start_time": "2023-04-24T12:02:46.061238Z"
    },
    "hidden": true
   },
   "outputs": [],
   "source": [
    "# Substituindo os NA pela distância de 200000.0 metros.\n",
    "df_1['competition_distance'] = df_1['competition_distance'].apply(lambda x: 200000.0 if math.isnan(x) else x)"
   ]
  },
  {
   "cell_type": "code",
   "execution_count": 10,
   "id": "1bc3a654",
   "metadata": {
    "ExecuteTime": {
     "end_time": "2023-04-24T12:03:18.584449Z",
     "start_time": "2023-04-24T12:03:18.259087Z"
    },
    "hidden": true
   },
   "outputs": [
    {
     "data": {
      "text/plain": [
       "store                                0\n",
       "day_of_week                          0\n",
       "date                                 0\n",
       "sales                                0\n",
       "customers                            0\n",
       "open                                 0\n",
       "promo                                0\n",
       "state_holiday                        0\n",
       "school_holiday                       0\n",
       "store_type                           0\n",
       "assortment                           0\n",
       "competition_distance                 0\n",
       "competition_open_since_month    323348\n",
       "competition_open_since_year     323348\n",
       "promo2                               0\n",
       "promo2_since_week               508031\n",
       "promo2_since_year               508031\n",
       "promo_interval                  508031\n",
       "dtype: int64"
      ]
     },
     "execution_count": 10,
     "metadata": {},
     "output_type": "execute_result"
    }
   ],
   "source": [
    "# Agora a coluna competition_distance não possui mais NA.\n",
    "df_1.isna().sum()"
   ]
  },
  {
   "cell_type": "code",
   "execution_count": 11,
   "id": "c0315964",
   "metadata": {
    "ExecuteTime": {
     "end_time": "2023-04-24T12:03:22.173214Z",
     "start_time": "2023-04-24T12:03:22.159195Z"
    },
    "hidden": true
   },
   "outputs": [
    {
     "data": {
      "text/plain": [
       "200000.0"
      ]
     },
     "execution_count": 11,
     "metadata": {},
     "output_type": "execute_result"
    }
   ],
   "source": [
    "# Agora a distância máxima é 200000.0 metros\n",
    "df_1['competition_distance'].max()"
   ]
  },
  {
   "cell_type": "markdown",
   "id": "a161d4e8",
   "metadata": {
    "hidden": true
   },
   "source": [
    "#### competition_open_since_month"
   ]
  },
  {
   "cell_type": "markdown",
   "id": "33c5ca07",
   "metadata": {
    "hidden": true
   },
   "source": [
    "**competition_open_since_month** - fornece o mês aproximado do momento em que o concorrente mais próximo foi aberto.\n",
    "\n",
    "As linhas com NA pode significar que não tem loja concorrente próxima, logo não tem o mês de abertura da loja. Ou a podemos ter uma loja concorrente próxima mas não sabemos quando ela abriu, porque a loja abriu muito antes ou alguém esqueceu de anotar.\n",
    "\n",
    "Como o comportamento de ter uma loja concorrente próxima influencia nas vendas de uma loja com o tempo, ou seja, assim que abre um concorrente a tendência é as vendas da loja decairem um pouco e após um tempo, quando os clientes já se acostumam com a concorrência das duas lojas a tendência é as vendas voltarem a aumentarem um pouco, mas sem atingir o patamar de vendas que tinha antes da concorrência.\n",
    "\n",
    "Devido a esse comportamento de influência da concorrências nas vendas vou fazer o seguinte: Vou extrair o mês da coluna 'date' que refere-se as vendas que a loja fez em um determinado dia e substituir o NA na coluna 'competition_open_since_month' por esse mês."
   ]
  },
  {
   "cell_type": "code",
   "execution_count": 14,
   "id": "6edd6491",
   "metadata": {
    "ExecuteTime": {
     "end_time": "2023-04-24T12:30:47.945835Z",
     "start_time": "2023-04-24T12:30:28.698753Z"
    },
    "hidden": true,
    "scrolled": true
   },
   "outputs": [],
   "source": [
    "# Sobreescrever os NA pelo mês da coluna 'date' referente as últimas vendas.\n",
    "df_1['competition_open_since_month'] = df_1.apply(lambda x: x['date'].month if math.isnan(x['competition_open_since_month']) else x['competition_open_since_month'], axis=1)"
   ]
  },
  {
   "cell_type": "code",
   "execution_count": 17,
   "id": "9da792ca",
   "metadata": {
    "ExecuteTime": {
     "end_time": "2023-04-24T12:31:45.707380Z",
     "start_time": "2023-04-24T12:31:45.622370Z"
    },
    "hidden": true
   },
   "outputs": [
    {
     "data": {
      "text/plain": [
       "634589    9.0\n",
       "Name: competition_open_since_month, dtype: float64"
      ]
     },
     "execution_count": 17,
     "metadata": {},
     "output_type": "execute_result"
    }
   ],
   "source": [
    "df_1['competition_open_since_month'].sample()"
   ]
  },
  {
   "cell_type": "markdown",
   "id": "a5bba86b",
   "metadata": {
    "heading_collapsed": true,
    "hidden": true
   },
   "source": [
    "#### competition_open_since_year"
   ]
  },
  {
   "cell_type": "markdown",
   "id": "45d1e480",
   "metadata": {
    "hidden": true
   },
   "source": [
    "**competition_open_since_year** - fornece o ano aproximado do momento em que o concorrente mais próximo foi aberto.\n",
    "\n",
    "Aqui vou aplicar a mesma lógica feita para a variável/coluna 'competition_open_since_month' ."
   ]
  },
  {
   "cell_type": "code",
   "execution_count": 15,
   "id": "9d32fff2",
   "metadata": {
    "ExecuteTime": {
     "end_time": "2023-04-24T12:31:06.623384Z",
     "start_time": "2023-04-24T12:30:48.028785Z"
    },
    "hidden": true
   },
   "outputs": [],
   "source": [
    "# Sobreescrever os NA pelo ano da coluna 'date' referente as últimas vendas.\n",
    "df_1['competition_open_since_year'] = df_1.apply(lambda x: x['date'].year if math.isnan(x['competition_open_since_year']) else x['competition_open_since_year'], axis=1)"
   ]
  },
  {
   "cell_type": "code",
   "execution_count": 18,
   "id": "b1fb0ebc",
   "metadata": {
    "ExecuteTime": {
     "end_time": "2023-04-24T12:31:59.445213Z",
     "start_time": "2023-04-24T12:31:59.365909Z"
    },
    "hidden": true
   },
   "outputs": [
    {
     "data": {
      "text/plain": [
       "970437    2008.0\n",
       "Name: competition_open_since_year, dtype: float64"
      ]
     },
     "execution_count": 18,
     "metadata": {},
     "output_type": "execute_result"
    }
   ],
   "source": [
    "df_1['competition_open_since_year'].sample()"
   ]
  },
  {
   "cell_type": "markdown",
   "id": "74c33a6d",
   "metadata": {
    "heading_collapsed": true,
    "hidden": true
   },
   "source": [
    "#### promo2_since_week"
   ]
  },
  {
   "cell_type": "markdown",
   "id": "63d7c74f",
   "metadata": {
    "hidden": true
   },
   "source": [
    "**promo2_since_week** - descreve a semana do calendário em que a loja começou a participar da Promo2 (que é uma promoção continua para algumas lojas). Se estiver NA nessa coluna significa que a loja não participou da 'promo2'.\n",
    "\n",
    "Na coluna 'promo2' diz de a loja participou ou não da promoção.\n",
    "- 0 = a loja não participou da promoção promo2.\n",
    "- 1 = a loja participou da promoção promo2.\n",
    "\n",
    "Fazer a mesma lógica do 'competition_since_mounth' usar a 'date' daquela linha."
   ]
  },
  {
   "cell_type": "code",
   "execution_count": 24,
   "id": "e499f03b",
   "metadata": {
    "ExecuteTime": {
     "end_time": "2023-04-24T12:52:11.202416Z",
     "start_time": "2023-04-24T12:51:51.403693Z"
    },
    "hidden": true
   },
   "outputs": [],
   "source": [
    "# Se na linha que estou analisando tiver um NA na coluna 'promo2_since_week' sobrescrever pela semana referente na coluna 'date'\n",
    "df_1['promo2_since_week'] = df_1.apply(lambda x: x['date'].week if math.isnan(x['promo2_since_week']) else x['promo2_since_week'], axis=1)"
   ]
  },
  {
   "cell_type": "code",
   "execution_count": 23,
   "id": "44d5fd5b",
   "metadata": {
    "ExecuteTime": {
     "end_time": "2023-04-24T12:47:44.050667Z",
     "start_time": "2023-04-24T12:47:43.955168Z"
    },
    "hidden": true
   },
   "outputs": [
    {
     "data": {
      "text/html": [
       "<div>\n",
       "<style scoped>\n",
       "    .dataframe tbody tr th:only-of-type {\n",
       "        vertical-align: middle;\n",
       "    }\n",
       "\n",
       "    .dataframe tbody tr th {\n",
       "        vertical-align: top;\n",
       "    }\n",
       "\n",
       "    .dataframe thead th {\n",
       "        text-align: right;\n",
       "    }\n",
       "</style>\n",
       "<table border=\"1\" class=\"dataframe\">\n",
       "  <thead>\n",
       "    <tr style=\"text-align: right;\">\n",
       "      <th></th>\n",
       "      <th>store</th>\n",
       "      <th>day_of_week</th>\n",
       "      <th>date</th>\n",
       "      <th>sales</th>\n",
       "      <th>customers</th>\n",
       "      <th>open</th>\n",
       "      <th>promo</th>\n",
       "      <th>state_holiday</th>\n",
       "      <th>school_holiday</th>\n",
       "      <th>store_type</th>\n",
       "      <th>assortment</th>\n",
       "      <th>competition_distance</th>\n",
       "      <th>competition_open_since_month</th>\n",
       "      <th>competition_open_since_year</th>\n",
       "      <th>promo2</th>\n",
       "      <th>promo2_since_week</th>\n",
       "      <th>promo2_since_year</th>\n",
       "      <th>promo_interval</th>\n",
       "    </tr>\n",
       "  </thead>\n",
       "  <tbody>\n",
       "    <tr>\n",
       "      <th>566361</th>\n",
       "      <td>727</td>\n",
       "      <td>7</td>\n",
       "      <td>2014-02-09</td>\n",
       "      <td>0</td>\n",
       "      <td>0</td>\n",
       "      <td>0</td>\n",
       "      <td>0</td>\n",
       "      <td>0</td>\n",
       "      <td>0</td>\n",
       "      <td>a</td>\n",
       "      <td>a</td>\n",
       "      <td>2050.0</td>\n",
       "      <td>3.0</td>\n",
       "      <td>2007.0</td>\n",
       "      <td>0</td>\n",
       "      <td>6.0</td>\n",
       "      <td>NaN</td>\n",
       "      <td>NaN</td>\n",
       "    </tr>\n",
       "  </tbody>\n",
       "</table>\n",
       "</div>"
      ],
      "text/plain": [
       "        store  day_of_week       date  sales  customers  open  promo   \n",
       "566361    727            7 2014-02-09      0          0     0      0  \\\n",
       "\n",
       "       state_holiday  school_holiday store_type assortment   \n",
       "566361             0               0          a          a  \\\n",
       "\n",
       "        competition_distance  competition_open_since_month   \n",
       "566361                2050.0                           3.0  \\\n",
       "\n",
       "        competition_open_since_year  promo2  promo2_since_week   \n",
       "566361                       2007.0       0                6.0  \\\n",
       "\n",
       "        promo2_since_year promo_interval  \n",
       "566361                NaN            NaN  "
      ]
     },
     "execution_count": 23,
     "metadata": {},
     "output_type": "execute_result"
    }
   ],
   "source": [
    "df_1.sample()"
   ]
  },
  {
   "cell_type": "markdown",
   "id": "cacc807a",
   "metadata": {
    "heading_collapsed": true,
    "hidden": true
   },
   "source": [
    "#### promo2_since_year"
   ]
  },
  {
   "cell_type": "markdown",
   "id": "b295fc97",
   "metadata": {
    "hidden": true
   },
   "source": [
    "**promo2_since_year** - descreve o ano do calendário em que a loja começou a participar da Promo2 (que é uma promoção continua para algumas lojas).\n",
    "\n",
    "Vou aplicar a mesma lógica do 'promo2_since_wee'."
   ]
  },
  {
   "cell_type": "code",
   "execution_count": 25,
   "id": "a7074049",
   "metadata": {
    "ExecuteTime": {
     "end_time": "2023-04-24T12:52:32.308214Z",
     "start_time": "2023-04-24T12:52:14.210083Z"
    },
    "hidden": true
   },
   "outputs": [],
   "source": [
    "# Se na linha que estou analisando tiver um NA na coluna 'promo2_since_yers' sobrescrever pelo ano referente na coluna 'date'\n",
    "df_1['promo2_since_year'] = df_1.apply(lambda x: x['date'].year if math.isnan(x['promo2_since_year']) else x['promo2_since_year'], axis=1)"
   ]
  },
  {
   "cell_type": "code",
   "execution_count": 26,
   "id": "b40690e3",
   "metadata": {
    "ExecuteTime": {
     "end_time": "2023-04-24T12:53:04.215791Z",
     "start_time": "2023-04-24T12:53:04.085429Z"
    },
    "hidden": true
   },
   "outputs": [
    {
     "data": {
      "text/html": [
       "<div>\n",
       "<style scoped>\n",
       "    .dataframe tbody tr th:only-of-type {\n",
       "        vertical-align: middle;\n",
       "    }\n",
       "\n",
       "    .dataframe tbody tr th {\n",
       "        vertical-align: top;\n",
       "    }\n",
       "\n",
       "    .dataframe thead th {\n",
       "        text-align: right;\n",
       "    }\n",
       "</style>\n",
       "<table border=\"1\" class=\"dataframe\">\n",
       "  <thead>\n",
       "    <tr style=\"text-align: right;\">\n",
       "      <th></th>\n",
       "      <th>store</th>\n",
       "      <th>day_of_week</th>\n",
       "      <th>date</th>\n",
       "      <th>sales</th>\n",
       "      <th>customers</th>\n",
       "      <th>open</th>\n",
       "      <th>promo</th>\n",
       "      <th>state_holiday</th>\n",
       "      <th>school_holiday</th>\n",
       "      <th>store_type</th>\n",
       "      <th>assortment</th>\n",
       "      <th>competition_distance</th>\n",
       "      <th>competition_open_since_month</th>\n",
       "      <th>competition_open_since_year</th>\n",
       "      <th>promo2</th>\n",
       "      <th>promo2_since_week</th>\n",
       "      <th>promo2_since_year</th>\n",
       "      <th>promo_interval</th>\n",
       "    </tr>\n",
       "  </thead>\n",
       "  <tbody>\n",
       "    <tr>\n",
       "      <th>397841</th>\n",
       "      <td>772</td>\n",
       "      <td>6</td>\n",
       "      <td>2014-07-12</td>\n",
       "      <td>3786</td>\n",
       "      <td>489</td>\n",
       "      <td>1</td>\n",
       "      <td>0</td>\n",
       "      <td>0</td>\n",
       "      <td>0</td>\n",
       "      <td>d</td>\n",
       "      <td>c</td>\n",
       "      <td>1850.0</td>\n",
       "      <td>7.0</td>\n",
       "      <td>2014.0</td>\n",
       "      <td>0</td>\n",
       "      <td>28.0</td>\n",
       "      <td>2014.0</td>\n",
       "      <td>NaN</td>\n",
       "    </tr>\n",
       "  </tbody>\n",
       "</table>\n",
       "</div>"
      ],
      "text/plain": [
       "        store  day_of_week       date  sales  customers  open  promo   \n",
       "397841    772            6 2014-07-12   3786        489     1      0  \\\n",
       "\n",
       "       state_holiday  school_holiday store_type assortment   \n",
       "397841             0               0          d          c  \\\n",
       "\n",
       "        competition_distance  competition_open_since_month   \n",
       "397841                1850.0                           7.0  \\\n",
       "\n",
       "        competition_open_since_year  promo2  promo2_since_week   \n",
       "397841                       2014.0       0               28.0  \\\n",
       "\n",
       "        promo2_since_year promo_interval  \n",
       "397841             2014.0            NaN  "
      ]
     },
     "execution_count": 26,
     "metadata": {},
     "output_type": "execute_result"
    }
   ],
   "source": [
    "df_1.sample()"
   ]
  },
  {
   "cell_type": "markdown",
   "id": "2200d5fb",
   "metadata": {
    "heading_collapsed": true,
    "hidden": true
   },
   "source": [
    "#### promo_interval"
   ]
  },
  {
   "cell_type": "markdown",
   "id": "ae5561cc",
   "metadata": {
    "hidden": true
   },
   "source": [
    "**promo_interval** - descreve os intervalos consecutivos em que a Promo2 é iniciada, nomeando os meses em que a promoção é iniciada novamente. Por exemplo, \"fevereiro, maio, agosto, novembro\" significa que cada rodada começa em fevereiro, maio, agosto, novembro de qualquer ano para essa loja."
   ]
  },
  {
   "cell_type": "code",
   "execution_count": 27,
   "id": "ed69c8f9",
   "metadata": {
    "ExecuteTime": {
     "end_time": "2023-04-24T13:06:29.981583Z",
     "start_time": "2023-04-24T13:06:29.872747Z"
    },
    "hidden": true
   },
   "outputs": [
    {
     "data": {
      "text/html": [
       "<div>\n",
       "<style scoped>\n",
       "    .dataframe tbody tr th:only-of-type {\n",
       "        vertical-align: middle;\n",
       "    }\n",
       "\n",
       "    .dataframe tbody tr th {\n",
       "        vertical-align: top;\n",
       "    }\n",
       "\n",
       "    .dataframe thead th {\n",
       "        text-align: right;\n",
       "    }\n",
       "</style>\n",
       "<table border=\"1\" class=\"dataframe\">\n",
       "  <thead>\n",
       "    <tr style=\"text-align: right;\">\n",
       "      <th></th>\n",
       "      <th>store</th>\n",
       "      <th>day_of_week</th>\n",
       "      <th>date</th>\n",
       "      <th>sales</th>\n",
       "      <th>customers</th>\n",
       "      <th>open</th>\n",
       "      <th>promo</th>\n",
       "      <th>state_holiday</th>\n",
       "      <th>school_holiday</th>\n",
       "      <th>store_type</th>\n",
       "      <th>assortment</th>\n",
       "      <th>competition_distance</th>\n",
       "      <th>competition_open_since_month</th>\n",
       "      <th>competition_open_since_year</th>\n",
       "      <th>promo2</th>\n",
       "      <th>promo2_since_week</th>\n",
       "      <th>promo2_since_year</th>\n",
       "      <th>promo_interval</th>\n",
       "    </tr>\n",
       "  </thead>\n",
       "  <tbody>\n",
       "    <tr>\n",
       "      <th>347522</th>\n",
       "      <td>971</td>\n",
       "      <td>4</td>\n",
       "      <td>2014-09-04</td>\n",
       "      <td>8845</td>\n",
       "      <td>1021</td>\n",
       "      <td>1</td>\n",
       "      <td>1</td>\n",
       "      <td>0</td>\n",
       "      <td>0</td>\n",
       "      <td>c</td>\n",
       "      <td>a</td>\n",
       "      <td>1140.0</td>\n",
       "      <td>5.0</td>\n",
       "      <td>2011.0</td>\n",
       "      <td>1</td>\n",
       "      <td>14.0</td>\n",
       "      <td>2012.0</td>\n",
       "      <td>Mar,Jun,Sept,Dec</td>\n",
       "    </tr>\n",
       "  </tbody>\n",
       "</table>\n",
       "</div>"
      ],
      "text/plain": [
       "        store  day_of_week       date  sales  customers  open  promo   \n",
       "347522    971            4 2014-09-04   8845       1021     1      1  \\\n",
       "\n",
       "       state_holiday  school_holiday store_type assortment   \n",
       "347522             0               0          c          a  \\\n",
       "\n",
       "        competition_distance  competition_open_since_month   \n",
       "347522                1140.0                           5.0  \\\n",
       "\n",
       "        competition_open_since_year  promo2  promo2_since_week   \n",
       "347522                       2011.0       1               14.0  \\\n",
       "\n",
       "        promo2_since_year    promo_interval  \n",
       "347522             2012.0  Mar,Jun,Sept,Dec  "
      ]
     },
     "execution_count": 27,
     "metadata": {},
     "output_type": "execute_result"
    }
   ],
   "source": [
    "df_1.sample()"
   ]
  },
  {
   "cell_type": "code",
   "execution_count": 39,
   "id": "38f99c8e",
   "metadata": {
    "ExecuteTime": {
     "end_time": "2023-04-24T13:25:00.993020Z",
     "start_time": "2023-04-24T13:25:00.986053Z"
    },
    "hidden": true
   },
   "outputs": [],
   "source": [
    "# Criar um dicionário\n",
    "month_map = {\n",
    "    1:'Jan',\n",
    "    2:'Feb',\n",
    "    3:'Mar',\n",
    "    4:'Apr',\n",
    "    5:'May',\n",
    "    6:'Jun',\n",
    "    7:'Jul',\n",
    "    8:'Aug',\n",
    "    9:'Sept',\n",
    "    10:'Oct',\n",
    "    11:'Nov',\n",
    "    12:'Dec'\n",
    "}"
   ]
  },
  {
   "cell_type": "code",
   "execution_count": 40,
   "id": "315c9ce6",
   "metadata": {
    "ExecuteTime": {
     "end_time": "2023-04-24T13:25:02.854666Z",
     "start_time": "2023-04-24T13:25:02.763618Z"
    },
    "hidden": true
   },
   "outputs": [],
   "source": [
    "# Se a coluna 'promo_interval' for NA vou substituir ela por zero.\n",
    "# inplace=True para aplicar a modificação em toda a coluna se retornar nada.\n",
    "df_1['promo_interval'].fillna(0, inplace=True)"
   ]
  },
  {
   "cell_type": "code",
   "execution_count": 41,
   "id": "ae0062c7",
   "metadata": {
    "ExecuteTime": {
     "end_time": "2023-04-24T13:25:04.605767Z",
     "start_time": "2023-04-24T13:25:04.384489Z"
    },
    "hidden": true
   },
   "outputs": [],
   "source": [
    "# Criar uma nova coluna mouth_map.\n",
    "# Vou ttansformat a coluna 'date' que é ano-mês-dia em mês.\n",
    "# Vou mapear meu dicionário month_map dentro da coluna 'date' aqui para substituir os números pelas letras(meses),\n",
    "# na minha nova coluna 'month_map'.\n",
    "df_1['month_map'] = df_1['date'].dt.month.map(month_map)"
   ]
  },
  {
   "cell_type": "code",
   "execution_count": 42,
   "id": "a7b0d3b4",
   "metadata": {
    "ExecuteTime": {
     "end_time": "2023-04-24T13:25:06.836711Z",
     "start_time": "2023-04-24T13:25:06.745309Z"
    },
    "hidden": true,
    "scrolled": true
   },
   "outputs": [
    {
     "data": {
      "text/html": [
       "<div>\n",
       "<style scoped>\n",
       "    .dataframe tbody tr th:only-of-type {\n",
       "        vertical-align: middle;\n",
       "    }\n",
       "\n",
       "    .dataframe tbody tr th {\n",
       "        vertical-align: top;\n",
       "    }\n",
       "\n",
       "    .dataframe thead th {\n",
       "        text-align: right;\n",
       "    }\n",
       "</style>\n",
       "<table border=\"1\" class=\"dataframe\">\n",
       "  <thead>\n",
       "    <tr style=\"text-align: right;\">\n",
       "      <th></th>\n",
       "      <th>431252</th>\n",
       "      <th>164576</th>\n",
       "      <th>75250</th>\n",
       "      <th>853275</th>\n",
       "      <th>404769</th>\n",
       "    </tr>\n",
       "  </thead>\n",
       "  <tbody>\n",
       "    <tr>\n",
       "      <th>store</th>\n",
       "      <td>533</td>\n",
       "      <td>672</td>\n",
       "      <td>546</td>\n",
       "      <td>1086</td>\n",
       "      <td>106</td>\n",
       "    </tr>\n",
       "    <tr>\n",
       "      <th>day_of_week</th>\n",
       "      <td>2</td>\n",
       "      <td>5</td>\n",
       "      <td>1</td>\n",
       "      <td>2</td>\n",
       "      <td>5</td>\n",
       "    </tr>\n",
       "    <tr>\n",
       "      <th>date</th>\n",
       "      <td>2014-06-10 00:00:00</td>\n",
       "      <td>2015-03-06 00:00:00</td>\n",
       "      <td>2015-05-25 00:00:00</td>\n",
       "      <td>2013-05-28 00:00:00</td>\n",
       "      <td>2014-07-04 00:00:00</td>\n",
       "    </tr>\n",
       "    <tr>\n",
       "      <th>sales</th>\n",
       "      <td>9851</td>\n",
       "      <td>8908</td>\n",
       "      <td>0</td>\n",
       "      <td>13588</td>\n",
       "      <td>7732</td>\n",
       "    </tr>\n",
       "    <tr>\n",
       "      <th>customers</th>\n",
       "      <td>873</td>\n",
       "      <td>1315</td>\n",
       "      <td>0</td>\n",
       "      <td>1194</td>\n",
       "      <td>824</td>\n",
       "    </tr>\n",
       "    <tr>\n",
       "      <th>open</th>\n",
       "      <td>1</td>\n",
       "      <td>1</td>\n",
       "      <td>0</td>\n",
       "      <td>1</td>\n",
       "      <td>1</td>\n",
       "    </tr>\n",
       "    <tr>\n",
       "      <th>promo</th>\n",
       "      <td>0</td>\n",
       "      <td>1</td>\n",
       "      <td>0</td>\n",
       "      <td>1</td>\n",
       "      <td>1</td>\n",
       "    </tr>\n",
       "    <tr>\n",
       "      <th>state_holiday</th>\n",
       "      <td>0</td>\n",
       "      <td>0</td>\n",
       "      <td>a</td>\n",
       "      <td>0</td>\n",
       "      <td>0</td>\n",
       "    </tr>\n",
       "    <tr>\n",
       "      <th>school_holiday</th>\n",
       "      <td>1</td>\n",
       "      <td>0</td>\n",
       "      <td>0</td>\n",
       "      <td>0</td>\n",
       "      <td>0</td>\n",
       "    </tr>\n",
       "    <tr>\n",
       "      <th>store_type</th>\n",
       "      <td>a</td>\n",
       "      <td>c</td>\n",
       "      <td>a</td>\n",
       "      <td>a</td>\n",
       "      <td>a</td>\n",
       "    </tr>\n",
       "    <tr>\n",
       "      <th>assortment</th>\n",
       "      <td>c</td>\n",
       "      <td>a</td>\n",
       "      <td>a</td>\n",
       "      <td>a</td>\n",
       "      <td>a</td>\n",
       "    </tr>\n",
       "    <tr>\n",
       "      <th>competition_distance</th>\n",
       "      <td>5950.0</td>\n",
       "      <td>240.0</td>\n",
       "      <td>580.0</td>\n",
       "      <td>180.0</td>\n",
       "      <td>1390.0</td>\n",
       "    </tr>\n",
       "    <tr>\n",
       "      <th>competition_open_since_month</th>\n",
       "      <td>6.0</td>\n",
       "      <td>9.0</td>\n",
       "      <td>1.0</td>\n",
       "      <td>11.0</td>\n",
       "      <td>8.0</td>\n",
       "    </tr>\n",
       "    <tr>\n",
       "      <th>competition_open_since_year</th>\n",
       "      <td>2014.0</td>\n",
       "      <td>2002.0</td>\n",
       "      <td>2005.0</td>\n",
       "      <td>2013.0</td>\n",
       "      <td>2013.0</td>\n",
       "    </tr>\n",
       "    <tr>\n",
       "      <th>promo2</th>\n",
       "      <td>0</td>\n",
       "      <td>0</td>\n",
       "      <td>0</td>\n",
       "      <td>1</td>\n",
       "      <td>0</td>\n",
       "    </tr>\n",
       "    <tr>\n",
       "      <th>promo2_since_week</th>\n",
       "      <td>24.0</td>\n",
       "      <td>10.0</td>\n",
       "      <td>22.0</td>\n",
       "      <td>18.0</td>\n",
       "      <td>27.0</td>\n",
       "    </tr>\n",
       "    <tr>\n",
       "      <th>promo2_since_year</th>\n",
       "      <td>2014.0</td>\n",
       "      <td>2015.0</td>\n",
       "      <td>2015.0</td>\n",
       "      <td>2011.0</td>\n",
       "      <td>2014.0</td>\n",
       "    </tr>\n",
       "    <tr>\n",
       "      <th>promo_interval</th>\n",
       "      <td>0</td>\n",
       "      <td>0</td>\n",
       "      <td>0</td>\n",
       "      <td>Feb,May,Aug,Nov</td>\n",
       "      <td>0</td>\n",
       "    </tr>\n",
       "    <tr>\n",
       "      <th>month_map</th>\n",
       "      <td>Jun</td>\n",
       "      <td>Mar</td>\n",
       "      <td>May</td>\n",
       "      <td>May</td>\n",
       "      <td>Jul</td>\n",
       "    </tr>\n",
       "  </tbody>\n",
       "</table>\n",
       "</div>"
      ],
      "text/plain": [
       "                                           431252               164576   \n",
       "store                                         533                  672  \\\n",
       "day_of_week                                     2                    5   \n",
       "date                          2014-06-10 00:00:00  2015-03-06 00:00:00   \n",
       "sales                                        9851                 8908   \n",
       "customers                                     873                 1315   \n",
       "open                                            1                    1   \n",
       "promo                                           0                    1   \n",
       "state_holiday                                   0                    0   \n",
       "school_holiday                                  1                    0   \n",
       "store_type                                      a                    c   \n",
       "assortment                                      c                    a   \n",
       "competition_distance                       5950.0                240.0   \n",
       "competition_open_since_month                  6.0                  9.0   \n",
       "competition_open_since_year                2014.0               2002.0   \n",
       "promo2                                          0                    0   \n",
       "promo2_since_week                            24.0                 10.0   \n",
       "promo2_since_year                          2014.0               2015.0   \n",
       "promo_interval                                  0                    0   \n",
       "month_map                                     Jun                  Mar   \n",
       "\n",
       "                                           75250                853275   \n",
       "store                                         546                 1086  \\\n",
       "day_of_week                                     1                    2   \n",
       "date                          2015-05-25 00:00:00  2013-05-28 00:00:00   \n",
       "sales                                           0                13588   \n",
       "customers                                       0                 1194   \n",
       "open                                            0                    1   \n",
       "promo                                           0                    1   \n",
       "state_holiday                                   a                    0   \n",
       "school_holiday                                  0                    0   \n",
       "store_type                                      a                    a   \n",
       "assortment                                      a                    a   \n",
       "competition_distance                        580.0                180.0   \n",
       "competition_open_since_month                  1.0                 11.0   \n",
       "competition_open_since_year                2005.0               2013.0   \n",
       "promo2                                          0                    1   \n",
       "promo2_since_week                            22.0                 18.0   \n",
       "promo2_since_year                          2015.0               2011.0   \n",
       "promo_interval                                  0      Feb,May,Aug,Nov   \n",
       "month_map                                     May                  May   \n",
       "\n",
       "                                           404769  \n",
       "store                                         106  \n",
       "day_of_week                                     5  \n",
       "date                          2014-07-04 00:00:00  \n",
       "sales                                        7732  \n",
       "customers                                     824  \n",
       "open                                            1  \n",
       "promo                                           1  \n",
       "state_holiday                                   0  \n",
       "school_holiday                                  0  \n",
       "store_type                                      a  \n",
       "assortment                                      a  \n",
       "competition_distance                       1390.0  \n",
       "competition_open_since_month                  8.0  \n",
       "competition_open_since_year                2013.0  \n",
       "promo2                                          0  \n",
       "promo2_since_week                            27.0  \n",
       "promo2_since_year                          2014.0  \n",
       "promo_interval                                  0  \n",
       "month_map                                     Jul  "
      ]
     },
     "execution_count": 42,
     "metadata": {},
     "output_type": "execute_result"
    }
   ],
   "source": [
    "df_1.sample(5).T"
   ]
  },
  {
   "cell_type": "code",
   "execution_count": 49,
   "id": "71e1ae29",
   "metadata": {
    "ExecuteTime": {
     "end_time": "2023-04-24T14:08:35.259391Z",
     "start_time": "2023-04-24T14:08:20.336015Z"
    },
    "hidden": true
   },
   "outputs": [],
   "source": [
    "# Na coluna 'promo_interval' vou fazer uma lista separando os valores dela onde tem ',' no 'promo_interval'.\n",
    "# Criar uma nova coluna 'is_promo'. Se o 'month_map' estiver dentro do 'promo_interval', vou por 1, se não tiver vou substituir por 0 na 'is_promo'\n",
    "df_1['is_promo'] = df_1[['promo_interval', 'month_map']].apply(lambda x: 0 if x['promo_interval'] == 0 else 1 if x['month_map'] in x['promo_interval'].split(',') else 0, axis=1)"
   ]
  },
  {
   "cell_type": "code",
   "execution_count": 51,
   "id": "9b9bbfc3",
   "metadata": {
    "ExecuteTime": {
     "end_time": "2023-04-24T14:08:46.362204Z",
     "start_time": "2023-04-24T14:08:46.261287Z"
    },
    "hidden": true
   },
   "outputs": [
    {
     "data": {
      "text/html": [
       "<div>\n",
       "<style scoped>\n",
       "    .dataframe tbody tr th:only-of-type {\n",
       "        vertical-align: middle;\n",
       "    }\n",
       "\n",
       "    .dataframe tbody tr th {\n",
       "        vertical-align: top;\n",
       "    }\n",
       "\n",
       "    .dataframe thead th {\n",
       "        text-align: right;\n",
       "    }\n",
       "</style>\n",
       "<table border=\"1\" class=\"dataframe\">\n",
       "  <thead>\n",
       "    <tr style=\"text-align: right;\">\n",
       "      <th></th>\n",
       "      <th>193119</th>\n",
       "      <th>533529</th>\n",
       "      <th>297312</th>\n",
       "      <th>803381</th>\n",
       "      <th>111571</th>\n",
       "    </tr>\n",
       "  </thead>\n",
       "  <tbody>\n",
       "    <tr>\n",
       "      <th>store</th>\n",
       "      <td>225</td>\n",
       "      <td>230</td>\n",
       "      <td>198</td>\n",
       "      <td>252</td>\n",
       "      <td>72</td>\n",
       "    </tr>\n",
       "    <tr>\n",
       "      <th>day_of_week</th>\n",
       "      <td>7</td>\n",
       "      <td>1</td>\n",
       "      <td>1</td>\n",
       "      <td>4</td>\n",
       "      <td>3</td>\n",
       "    </tr>\n",
       "    <tr>\n",
       "      <th>date</th>\n",
       "      <td>2015-02-08 00:00:00</td>\n",
       "      <td>2014-03-10 00:00:00</td>\n",
       "      <td>2014-10-27 00:00:00</td>\n",
       "      <td>2013-07-11 00:00:00</td>\n",
       "      <td>2015-04-22 00:00:00</td>\n",
       "    </tr>\n",
       "    <tr>\n",
       "      <th>sales</th>\n",
       "      <td>0</td>\n",
       "      <td>6248</td>\n",
       "      <td>1703</td>\n",
       "      <td>8777</td>\n",
       "      <td>3499</td>\n",
       "    </tr>\n",
       "    <tr>\n",
       "      <th>customers</th>\n",
       "      <td>0</td>\n",
       "      <td>922</td>\n",
       "      <td>276</td>\n",
       "      <td>724</td>\n",
       "      <td>412</td>\n",
       "    </tr>\n",
       "    <tr>\n",
       "      <th>open</th>\n",
       "      <td>0</td>\n",
       "      <td>1</td>\n",
       "      <td>1</td>\n",
       "      <td>1</td>\n",
       "      <td>1</td>\n",
       "    </tr>\n",
       "    <tr>\n",
       "      <th>promo</th>\n",
       "      <td>0</td>\n",
       "      <td>0</td>\n",
       "      <td>0</td>\n",
       "      <td>0</td>\n",
       "      <td>0</td>\n",
       "    </tr>\n",
       "    <tr>\n",
       "      <th>state_holiday</th>\n",
       "      <td>0</td>\n",
       "      <td>0</td>\n",
       "      <td>0</td>\n",
       "      <td>0</td>\n",
       "      <td>0</td>\n",
       "    </tr>\n",
       "    <tr>\n",
       "      <th>school_holiday</th>\n",
       "      <td>0</td>\n",
       "      <td>0</td>\n",
       "      <td>0</td>\n",
       "      <td>0</td>\n",
       "      <td>0</td>\n",
       "    </tr>\n",
       "    <tr>\n",
       "      <th>store_type</th>\n",
       "      <td>d</td>\n",
       "      <td>d</td>\n",
       "      <td>a</td>\n",
       "      <td>d</td>\n",
       "      <td>a</td>\n",
       "    </tr>\n",
       "    <tr>\n",
       "      <th>assortment</th>\n",
       "      <td>a</td>\n",
       "      <td>c</td>\n",
       "      <td>a</td>\n",
       "      <td>c</td>\n",
       "      <td>a</td>\n",
       "    </tr>\n",
       "    <tr>\n",
       "      <th>competition_distance</th>\n",
       "      <td>10180.0</td>\n",
       "      <td>6680.0</td>\n",
       "      <td>290.0</td>\n",
       "      <td>22330.0</td>\n",
       "      <td>2200.0</td>\n",
       "    </tr>\n",
       "    <tr>\n",
       "      <th>competition_open_since_month</th>\n",
       "      <td>5.0</td>\n",
       "      <td>9.0</td>\n",
       "      <td>9.0</td>\n",
       "      <td>7.0</td>\n",
       "      <td>12.0</td>\n",
       "    </tr>\n",
       "    <tr>\n",
       "      <th>competition_open_since_year</th>\n",
       "      <td>2015.0</td>\n",
       "      <td>2013.0</td>\n",
       "      <td>2002.0</td>\n",
       "      <td>2013.0</td>\n",
       "      <td>2009.0</td>\n",
       "    </tr>\n",
       "    <tr>\n",
       "      <th>promo2</th>\n",
       "      <td>0</td>\n",
       "      <td>0</td>\n",
       "      <td>1</td>\n",
       "      <td>1</td>\n",
       "      <td>1</td>\n",
       "    </tr>\n",
       "    <tr>\n",
       "      <th>promo2_since_week</th>\n",
       "      <td>6.0</td>\n",
       "      <td>11.0</td>\n",
       "      <td>13.0</td>\n",
       "      <td>5.0</td>\n",
       "      <td>13.0</td>\n",
       "    </tr>\n",
       "    <tr>\n",
       "      <th>promo2_since_year</th>\n",
       "      <td>2015.0</td>\n",
       "      <td>2014.0</td>\n",
       "      <td>2010.0</td>\n",
       "      <td>2010.0</td>\n",
       "      <td>2010.0</td>\n",
       "    </tr>\n",
       "    <tr>\n",
       "      <th>promo_interval</th>\n",
       "      <td>0</td>\n",
       "      <td>0</td>\n",
       "      <td>Jan,Apr,Jul,Oct</td>\n",
       "      <td>Feb,May,Aug,Nov</td>\n",
       "      <td>Jan,Apr,Jul,Oct</td>\n",
       "    </tr>\n",
       "    <tr>\n",
       "      <th>month_map</th>\n",
       "      <td>Feb</td>\n",
       "      <td>Mar</td>\n",
       "      <td>Oct</td>\n",
       "      <td>Jul</td>\n",
       "      <td>Apr</td>\n",
       "    </tr>\n",
       "    <tr>\n",
       "      <th>is_promo</th>\n",
       "      <td>0</td>\n",
       "      <td>0</td>\n",
       "      <td>1</td>\n",
       "      <td>0</td>\n",
       "      <td>1</td>\n",
       "    </tr>\n",
       "  </tbody>\n",
       "</table>\n",
       "</div>"
      ],
      "text/plain": [
       "                                           193119               533529   \n",
       "store                                         225                  230  \\\n",
       "day_of_week                                     7                    1   \n",
       "date                          2015-02-08 00:00:00  2014-03-10 00:00:00   \n",
       "sales                                           0                 6248   \n",
       "customers                                       0                  922   \n",
       "open                                            0                    1   \n",
       "promo                                           0                    0   \n",
       "state_holiday                                   0                    0   \n",
       "school_holiday                                  0                    0   \n",
       "store_type                                      d                    d   \n",
       "assortment                                      a                    c   \n",
       "competition_distance                      10180.0               6680.0   \n",
       "competition_open_since_month                  5.0                  9.0   \n",
       "competition_open_since_year                2015.0               2013.0   \n",
       "promo2                                          0                    0   \n",
       "promo2_since_week                             6.0                 11.0   \n",
       "promo2_since_year                          2015.0               2014.0   \n",
       "promo_interval                                  0                    0   \n",
       "month_map                                     Feb                  Mar   \n",
       "is_promo                                        0                    0   \n",
       "\n",
       "                                           297312               803381   \n",
       "store                                         198                  252  \\\n",
       "day_of_week                                     1                    4   \n",
       "date                          2014-10-27 00:00:00  2013-07-11 00:00:00   \n",
       "sales                                        1703                 8777   \n",
       "customers                                     276                  724   \n",
       "open                                            1                    1   \n",
       "promo                                           0                    0   \n",
       "state_holiday                                   0                    0   \n",
       "school_holiday                                  0                    0   \n",
       "store_type                                      a                    d   \n",
       "assortment                                      a                    c   \n",
       "competition_distance                        290.0              22330.0   \n",
       "competition_open_since_month                  9.0                  7.0   \n",
       "competition_open_since_year                2002.0               2013.0   \n",
       "promo2                                          1                    1   \n",
       "promo2_since_week                            13.0                  5.0   \n",
       "promo2_since_year                          2010.0               2010.0   \n",
       "promo_interval                    Jan,Apr,Jul,Oct      Feb,May,Aug,Nov   \n",
       "month_map                                     Oct                  Jul   \n",
       "is_promo                                        1                    0   \n",
       "\n",
       "                                           111571  \n",
       "store                                          72  \n",
       "day_of_week                                     3  \n",
       "date                          2015-04-22 00:00:00  \n",
       "sales                                        3499  \n",
       "customers                                     412  \n",
       "open                                            1  \n",
       "promo                                           0  \n",
       "state_holiday                                   0  \n",
       "school_holiday                                  0  \n",
       "store_type                                      a  \n",
       "assortment                                      a  \n",
       "competition_distance                       2200.0  \n",
       "competition_open_since_month                 12.0  \n",
       "competition_open_since_year                2009.0  \n",
       "promo2                                          1  \n",
       "promo2_since_week                            13.0  \n",
       "promo2_since_year                          2010.0  \n",
       "promo_interval                    Jan,Apr,Jul,Oct  \n",
       "month_map                                     Apr  \n",
       "is_promo                                        1  "
      ]
     },
     "execution_count": 51,
     "metadata": {},
     "output_type": "execute_result"
    }
   ],
   "source": [
    "df_1.sample(5).T"
   ]
  },
  {
   "cell_type": "markdown",
   "id": "92e4e58a",
   "metadata": {
    "heading_collapsed": true,
    "hidden": true
   },
   "source": [
    "#### Quantidades de NA depois do tratamento"
   ]
  },
  {
   "cell_type": "code",
   "execution_count": 53,
   "id": "f3da7270",
   "metadata": {
    "ExecuteTime": {
     "end_time": "2023-04-24T14:10:59.021686Z",
     "start_time": "2023-04-24T14:10:58.558155Z"
    },
    "hidden": true,
    "scrolled": true
   },
   "outputs": [
    {
     "data": {
      "text/plain": [
       "store                           0\n",
       "day_of_week                     0\n",
       "date                            0\n",
       "sales                           0\n",
       "customers                       0\n",
       "open                            0\n",
       "promo                           0\n",
       "state_holiday                   0\n",
       "school_holiday                  0\n",
       "store_type                      0\n",
       "assortment                      0\n",
       "competition_distance            0\n",
       "competition_open_since_month    0\n",
       "competition_open_since_year     0\n",
       "promo2                          0\n",
       "promo2_since_week               0\n",
       "promo2_since_year               0\n",
       "promo_interval                  0\n",
       "month_map                       0\n",
       "is_promo                        0\n",
       "dtype: int64"
      ]
     },
     "execution_count": 53,
     "metadata": {},
     "output_type": "execute_result"
    }
   ],
   "source": [
    "# Sem NA no dataframe\n",
    "df_1.isna().sum()"
   ]
  },
  {
   "cell_type": "markdown",
   "id": "59f03915",
   "metadata": {},
   "source": [
    "## Estatítica Descritiva"
   ]
  },
  {
   "cell_type": "markdown",
   "id": "38de4f2b",
   "metadata": {},
   "source": [
    "### Tipos de Dados"
   ]
  },
  {
   "cell_type": "code",
   "execution_count": 56,
   "id": "2cb3d76d",
   "metadata": {
    "ExecuteTime": {
     "end_time": "2023-04-24T16:39:18.813124Z",
     "start_time": "2023-04-24T16:39:18.798125Z"
    }
   },
   "outputs": [
    {
     "data": {
      "text/plain": [
       "store                                    int64\n",
       "day_of_week                              int64\n",
       "date                            datetime64[ns]\n",
       "sales                                    int64\n",
       "customers                                int64\n",
       "open                                     int64\n",
       "promo                                    int64\n",
       "state_holiday                           object\n",
       "school_holiday                           int64\n",
       "store_type                              object\n",
       "assortment                              object\n",
       "competition_distance                   float64\n",
       "competition_open_since_month           float64\n",
       "competition_open_since_year            float64\n",
       "promo2                                   int64\n",
       "promo2_since_week                      float64\n",
       "promo2_since_year                      float64\n",
       "promo_interval                          object\n",
       "month_map                               object\n",
       "is_promo                                 int64\n",
       "dtype: object"
      ]
     },
     "execution_count": 56,
     "metadata": {},
     "output_type": "execute_result"
    }
   ],
   "source": [
    "# Importante anaslisar se alguns tipos de dados precisam ser alterados para ser feito a análise estatística.\n",
    "df_1.dtypes"
   ]
  },
  {
   "cell_type": "code",
   "execution_count": 60,
   "id": "9ffcbfe3",
   "metadata": {
    "ExecuteTime": {
     "end_time": "2023-04-24T16:55:36.839329Z",
     "start_time": "2023-04-24T16:55:36.790748Z"
    }
   },
   "outputs": [],
   "source": [
    "# competition_open_since_month, competition_open_since_year, promo2_since_week, promo2_since_year\n",
    "# São variáveis referentes a números inteiros como mês e ano, precisam se transformados em tipos inteiros.\n",
    "df_1['competition_open_since_month'] = df_1['competition_open_since_month'].astype('int64')\n",
    "df_1['competition_open_since_year'] = df_1['competition_open_since_year'].astype('int64')\n",
    "\n",
    "df_1['promo2_since_week'] = df_1['promo2_since_week'] .astype('int64')\n",
    "df_1['promo2_since_year'] = df_1['promo2_since_year'] .astype('int64')"
   ]
  },
  {
   "cell_type": "code",
   "execution_count": 61,
   "id": "9c97aa0e",
   "metadata": {
    "ExecuteTime": {
     "end_time": "2023-04-24T16:55:38.924086Z",
     "start_time": "2023-04-24T16:55:38.910370Z"
    }
   },
   "outputs": [
    {
     "data": {
      "text/plain": [
       "store                                    int64\n",
       "day_of_week                              int64\n",
       "date                            datetime64[ns]\n",
       "sales                                    int64\n",
       "customers                                int64\n",
       "open                                     int64\n",
       "promo                                    int64\n",
       "state_holiday                           object\n",
       "school_holiday                           int64\n",
       "store_type                              object\n",
       "assortment                              object\n",
       "competition_distance                   float64\n",
       "competition_open_since_month             int64\n",
       "competition_open_since_year              int64\n",
       "promo2                                   int64\n",
       "promo2_since_week                        int64\n",
       "promo2_since_year                        int64\n",
       "promo_interval                          object\n",
       "month_map                               object\n",
       "is_promo                                 int64\n",
       "dtype: object"
      ]
     },
     "execution_count": 61,
     "metadata": {},
     "output_type": "execute_result"
    }
   ],
   "source": [
    "df_1.dtypes"
   ]
  },
  {
   "cell_type": "markdown",
   "id": "b3febd27",
   "metadata": {},
   "source": [
    "### Descrição Estatística"
   ]
  },
  {
   "cell_type": "markdown",
   "id": "a11d77f5",
   "metadata": {},
   "source": [
    "Separação da variáveis em variáveis númericas e variáveis categóricas."
   ]
  },
  {
   "cell_type": "code",
   "execution_count": 64,
   "id": "a0b61710",
   "metadata": {
    "ExecuteTime": {
     "end_time": "2023-04-24T17:35:09.491962Z",
     "start_time": "2023-04-24T17:35:09.161588Z"
    }
   },
   "outputs": [],
   "source": [
    "atributos_numericos = df_1.select_dtypes(include=['int64', 'float64'])\n",
    "atributos_categoricos = df_1.select_dtypes(exclude=['int64', 'float64', 'datetime64[ns]'])"
   ]
  },
  {
   "cell_type": "code",
   "execution_count": 67,
   "id": "b0ad8833",
   "metadata": {
    "ExecuteTime": {
     "end_time": "2023-04-24T17:36:13.840811Z",
     "start_time": "2023-04-24T17:36:13.743201Z"
    }
   },
   "outputs": [
    {
     "data": {
      "text/html": [
       "<div>\n",
       "<style scoped>\n",
       "    .dataframe tbody tr th:only-of-type {\n",
       "        vertical-align: middle;\n",
       "    }\n",
       "\n",
       "    .dataframe tbody tr th {\n",
       "        vertical-align: top;\n",
       "    }\n",
       "\n",
       "    .dataframe thead th {\n",
       "        text-align: right;\n",
       "    }\n",
       "</style>\n",
       "<table border=\"1\" class=\"dataframe\">\n",
       "  <thead>\n",
       "    <tr style=\"text-align: right;\">\n",
       "      <th></th>\n",
       "      <th>store</th>\n",
       "      <th>day_of_week</th>\n",
       "      <th>sales</th>\n",
       "      <th>customers</th>\n",
       "      <th>open</th>\n",
       "      <th>promo</th>\n",
       "      <th>school_holiday</th>\n",
       "      <th>competition_distance</th>\n",
       "      <th>competition_open_since_month</th>\n",
       "      <th>competition_open_since_year</th>\n",
       "      <th>promo2</th>\n",
       "      <th>promo2_since_week</th>\n",
       "      <th>promo2_since_year</th>\n",
       "      <th>is_promo</th>\n",
       "    </tr>\n",
       "  </thead>\n",
       "  <tbody>\n",
       "    <tr>\n",
       "      <th>847013</th>\n",
       "      <td>399</td>\n",
       "      <td>7</td>\n",
       "      <td>0</td>\n",
       "      <td>0</td>\n",
       "      <td>0</td>\n",
       "      <td>0</td>\n",
       "      <td>0</td>\n",
       "      <td>5360.0</td>\n",
       "      <td>9</td>\n",
       "      <td>2012</td>\n",
       "      <td>1</td>\n",
       "      <td>40</td>\n",
       "      <td>2011</td>\n",
       "      <td>0</td>\n",
       "    </tr>\n",
       "    <tr>\n",
       "      <th>74294</th>\n",
       "      <td>705</td>\n",
       "      <td>2</td>\n",
       "      <td>7796</td>\n",
       "      <td>997</td>\n",
       "      <td>1</td>\n",
       "      <td>0</td>\n",
       "      <td>1</td>\n",
       "      <td>4140.0</td>\n",
       "      <td>9</td>\n",
       "      <td>2012</td>\n",
       "      <td>1</td>\n",
       "      <td>18</td>\n",
       "      <td>2011</td>\n",
       "      <td>1</td>\n",
       "    </tr>\n",
       "  </tbody>\n",
       "</table>\n",
       "</div>"
      ],
      "text/plain": [
       "        store  day_of_week  sales  customers  open  promo  school_holiday   \n",
       "847013    399            7      0          0     0      0               0  \\\n",
       "74294     705            2   7796        997     1      0               1   \n",
       "\n",
       "        competition_distance  competition_open_since_month   \n",
       "847013                5360.0                             9  \\\n",
       "74294                 4140.0                             9   \n",
       "\n",
       "        competition_open_since_year  promo2  promo2_since_week   \n",
       "847013                         2012       1                 40  \\\n",
       "74294                          2012       1                 18   \n",
       "\n",
       "        promo2_since_year  is_promo  \n",
       "847013               2011         0  \n",
       "74294                2011         1  "
      ]
     },
     "execution_count": 67,
     "metadata": {},
     "output_type": "execute_result"
    }
   ],
   "source": [
    "atributos_numericos.sample(2)"
   ]
  },
  {
   "cell_type": "code",
   "execution_count": 69,
   "id": "f3d9195f",
   "metadata": {
    "ExecuteTime": {
     "end_time": "2023-04-24T17:36:20.184734Z",
     "start_time": "2023-04-24T17:36:20.096304Z"
    }
   },
   "outputs": [
    {
     "data": {
      "text/html": [
       "<div>\n",
       "<style scoped>\n",
       "    .dataframe tbody tr th:only-of-type {\n",
       "        vertical-align: middle;\n",
       "    }\n",
       "\n",
       "    .dataframe tbody tr th {\n",
       "        vertical-align: top;\n",
       "    }\n",
       "\n",
       "    .dataframe thead th {\n",
       "        text-align: right;\n",
       "    }\n",
       "</style>\n",
       "<table border=\"1\" class=\"dataframe\">\n",
       "  <thead>\n",
       "    <tr style=\"text-align: right;\">\n",
       "      <th></th>\n",
       "      <th>state_holiday</th>\n",
       "      <th>store_type</th>\n",
       "      <th>assortment</th>\n",
       "      <th>promo_interval</th>\n",
       "      <th>month_map</th>\n",
       "    </tr>\n",
       "  </thead>\n",
       "  <tbody>\n",
       "    <tr>\n",
       "      <th>836859</th>\n",
       "      <td>0</td>\n",
       "      <td>d</td>\n",
       "      <td>c</td>\n",
       "      <td>Mar,Jun,Sept,Dec</td>\n",
       "      <td>Jun</td>\n",
       "    </tr>\n",
       "    <tr>\n",
       "      <th>451492</th>\n",
       "      <td>0</td>\n",
       "      <td>a</td>\n",
       "      <td>a</td>\n",
       "      <td>0</td>\n",
       "      <td>May</td>\n",
       "    </tr>\n",
       "  </tbody>\n",
       "</table>\n",
       "</div>"
      ],
      "text/plain": [
       "       state_holiday store_type assortment    promo_interval month_map\n",
       "836859             0          d          c  Mar,Jun,Sept,Dec       Jun\n",
       "451492             0          a          a                 0       May"
      ]
     },
     "execution_count": 69,
     "metadata": {},
     "output_type": "execute_result"
    }
   ],
   "source": [
    "atributos_categoricos.sample(2)"
   ]
  },
  {
   "cell_type": "markdown",
   "id": "b5f7b639",
   "metadata": {},
   "source": [
    "#### Métricas de Tendência Central"
   ]
  },
  {
   "cell_type": "code",
   "execution_count": 72,
   "id": "ec999441",
   "metadata": {
    "ExecuteTime": {
     "end_time": "2023-04-24T18:06:08.788505Z",
     "start_time": "2023-04-24T18:06:08.566070Z"
    }
   },
   "outputs": [],
   "source": [
    "# Média (mean) e Mediana (median).\n",
    "tc_media = pd.DataFrame(atributos_numericos.apply(np.mean)).T\n",
    "tc_mediana = pd.DataFrame(atributos_numericos.apply(np.median)).T"
   ]
  },
  {
   "cell_type": "markdown",
   "id": "295a2f11",
   "metadata": {
    "ExecuteTime": {
     "end_time": "2023-04-24T17:30:10.268735Z",
     "start_time": "2023-04-24T17:30:10.263804Z"
    }
   },
   "source": [
    "#### Métricas de Dispersão"
   ]
  },
  {
   "cell_type": "code",
   "execution_count": 74,
   "id": "73b3baba",
   "metadata": {
    "ExecuteTime": {
     "end_time": "2023-04-24T18:25:52.457315Z",
     "start_time": "2023-04-24T18:25:47.038506Z"
    }
   },
   "outputs": [],
   "source": [
    "# Desvio Padrão (std), Minimo (min), Máximo (max), Range, Skew, Kurtosis\n",
    "d_desvio_padrao = pd.DataFrame(atributos_numericos.apply(np.std)).T\n",
    "d_minimo = pd.DataFrame(atributos_numericos.apply(min)).T\n",
    "d_maximo = pd.DataFrame(atributos_numericos.apply(max)).T\n",
    "d_range = pd.DataFrame(atributos_numericos.apply(lambda x: x.max() - x.min())).T\n",
    "d_skew = pd.DataFrame(atributos_numericos.apply(lambda x: x.skew())).T\n",
    "d_kurtosis = pd.DataFrame(atributos_numericos.apply(lambda x: x.kurtosis())).T"
   ]
  },
  {
   "cell_type": "markdown",
   "id": "758763bd",
   "metadata": {},
   "source": [
    "#### Análise Variáveis numéricas"
   ]
  },
  {
   "cell_type": "code",
   "execution_count": 76,
   "id": "dec392c3",
   "metadata": {
    "ExecuteTime": {
     "end_time": "2023-04-24T18:31:26.311969Z",
     "start_time": "2023-04-24T18:31:26.295032Z"
    }
   },
   "outputs": [],
   "source": [
    "metricas = pd.concat([\n",
    "    d_minimo,\n",
    "    d_maximo,\n",
    "    d_range,\n",
    "    tc_media,\n",
    "    tc_mediana,\n",
    "    d_desvio_padrao,\n",
    "    d_skew, d_kurtosis\n",
    "]).T.reset_index()\n",
    "\n",
    "metricas.columns = (\n",
    "    'atributos',\n",
    "    'min',\n",
    "    'max',\n",
    "    'range',\n",
    "    'média',\n",
    "    'mediana',\n",
    "    'desvio_padrao',\n",
    "    'skew',\n",
    "    'kurtosis'\n",
    ")"
   ]
  },
  {
   "cell_type": "code",
   "execution_count": 77,
   "id": "a59dc2b3",
   "metadata": {
    "ExecuteTime": {
     "end_time": "2023-04-24T18:31:34.014142Z",
     "start_time": "2023-04-24T18:31:33.958897Z"
    }
   },
   "outputs": [
    {
     "data": {
      "text/html": [
       "<div>\n",
       "<style scoped>\n",
       "    .dataframe tbody tr th:only-of-type {\n",
       "        vertical-align: middle;\n",
       "    }\n",
       "\n",
       "    .dataframe tbody tr th {\n",
       "        vertical-align: top;\n",
       "    }\n",
       "\n",
       "    .dataframe thead th {\n",
       "        text-align: right;\n",
       "    }\n",
       "</style>\n",
       "<table border=\"1\" class=\"dataframe\">\n",
       "  <thead>\n",
       "    <tr style=\"text-align: right;\">\n",
       "      <th></th>\n",
       "      <th>atributos</th>\n",
       "      <th>min</th>\n",
       "      <th>max</th>\n",
       "      <th>range</th>\n",
       "      <th>média</th>\n",
       "      <th>mediana</th>\n",
       "      <th>desvio_padrao</th>\n",
       "      <th>skew</th>\n",
       "      <th>kurtosis</th>\n",
       "    </tr>\n",
       "  </thead>\n",
       "  <tbody>\n",
       "    <tr>\n",
       "      <th>0</th>\n",
       "      <td>store</td>\n",
       "      <td>1.0</td>\n",
       "      <td>1115.0</td>\n",
       "      <td>1114.0</td>\n",
       "      <td>558.429727</td>\n",
       "      <td>558.0</td>\n",
       "      <td>321.908493</td>\n",
       "      <td>-0.000955</td>\n",
       "      <td>-1.200524</td>\n",
       "    </tr>\n",
       "    <tr>\n",
       "      <th>1</th>\n",
       "      <td>day_of_week</td>\n",
       "      <td>1.0</td>\n",
       "      <td>7.0</td>\n",
       "      <td>6.0</td>\n",
       "      <td>3.998341</td>\n",
       "      <td>4.0</td>\n",
       "      <td>1.997390</td>\n",
       "      <td>0.001593</td>\n",
       "      <td>-1.246873</td>\n",
       "    </tr>\n",
       "    <tr>\n",
       "      <th>2</th>\n",
       "      <td>sales</td>\n",
       "      <td>0.0</td>\n",
       "      <td>41551.0</td>\n",
       "      <td>41551.0</td>\n",
       "      <td>5773.818972</td>\n",
       "      <td>5744.0</td>\n",
       "      <td>3849.924283</td>\n",
       "      <td>0.641460</td>\n",
       "      <td>1.778375</td>\n",
       "    </tr>\n",
       "    <tr>\n",
       "      <th>3</th>\n",
       "      <td>customers</td>\n",
       "      <td>0.0</td>\n",
       "      <td>7388.0</td>\n",
       "      <td>7388.0</td>\n",
       "      <td>633.145946</td>\n",
       "      <td>609.0</td>\n",
       "      <td>464.411506</td>\n",
       "      <td>1.598650</td>\n",
       "      <td>7.091773</td>\n",
       "    </tr>\n",
       "    <tr>\n",
       "      <th>4</th>\n",
       "      <td>open</td>\n",
       "      <td>0.0</td>\n",
       "      <td>1.0</td>\n",
       "      <td>1.0</td>\n",
       "      <td>0.830107</td>\n",
       "      <td>1.0</td>\n",
       "      <td>0.375539</td>\n",
       "      <td>-1.758045</td>\n",
       "      <td>1.090723</td>\n",
       "    </tr>\n",
       "    <tr>\n",
       "      <th>5</th>\n",
       "      <td>promo</td>\n",
       "      <td>0.0</td>\n",
       "      <td>1.0</td>\n",
       "      <td>1.0</td>\n",
       "      <td>0.381515</td>\n",
       "      <td>0.0</td>\n",
       "      <td>0.485758</td>\n",
       "      <td>0.487838</td>\n",
       "      <td>-1.762018</td>\n",
       "    </tr>\n",
       "    <tr>\n",
       "      <th>6</th>\n",
       "      <td>school_holiday</td>\n",
       "      <td>0.0</td>\n",
       "      <td>1.0</td>\n",
       "      <td>1.0</td>\n",
       "      <td>0.178647</td>\n",
       "      <td>0.0</td>\n",
       "      <td>0.383056</td>\n",
       "      <td>1.677842</td>\n",
       "      <td>0.815154</td>\n",
       "    </tr>\n",
       "    <tr>\n",
       "      <th>7</th>\n",
       "      <td>competition_distance</td>\n",
       "      <td>20.0</td>\n",
       "      <td>200000.0</td>\n",
       "      <td>199980.0</td>\n",
       "      <td>5935.442677</td>\n",
       "      <td>2330.0</td>\n",
       "      <td>12547.646829</td>\n",
       "      <td>10.242344</td>\n",
       "      <td>147.789712</td>\n",
       "    </tr>\n",
       "    <tr>\n",
       "      <th>8</th>\n",
       "      <td>competition_open_since_month</td>\n",
       "      <td>1.0</td>\n",
       "      <td>12.0</td>\n",
       "      <td>11.0</td>\n",
       "      <td>6.786849</td>\n",
       "      <td>7.0</td>\n",
       "      <td>3.311085</td>\n",
       "      <td>-0.042076</td>\n",
       "      <td>-1.232607</td>\n",
       "    </tr>\n",
       "    <tr>\n",
       "      <th>9</th>\n",
       "      <td>competition_open_since_year</td>\n",
       "      <td>1900.0</td>\n",
       "      <td>2015.0</td>\n",
       "      <td>115.0</td>\n",
       "      <td>2010.324840</td>\n",
       "      <td>2012.0</td>\n",
       "      <td>5.515591</td>\n",
       "      <td>-7.235657</td>\n",
       "      <td>124.071304</td>\n",
       "    </tr>\n",
       "    <tr>\n",
       "      <th>10</th>\n",
       "      <td>promo2</td>\n",
       "      <td>0.0</td>\n",
       "      <td>1.0</td>\n",
       "      <td>1.0</td>\n",
       "      <td>0.500564</td>\n",
       "      <td>1.0</td>\n",
       "      <td>0.500000</td>\n",
       "      <td>-0.002255</td>\n",
       "      <td>-1.999999</td>\n",
       "    </tr>\n",
       "    <tr>\n",
       "      <th>11</th>\n",
       "      <td>promo2_since_week</td>\n",
       "      <td>1.0</td>\n",
       "      <td>52.0</td>\n",
       "      <td>51.0</td>\n",
       "      <td>23.619033</td>\n",
       "      <td>22.0</td>\n",
       "      <td>14.310057</td>\n",
       "      <td>0.178723</td>\n",
       "      <td>-1.184046</td>\n",
       "    </tr>\n",
       "    <tr>\n",
       "      <th>12</th>\n",
       "      <td>promo2_since_year</td>\n",
       "      <td>2009.0</td>\n",
       "      <td>2015.0</td>\n",
       "      <td>6.0</td>\n",
       "      <td>2012.793297</td>\n",
       "      <td>2013.0</td>\n",
       "      <td>1.662657</td>\n",
       "      <td>-0.784436</td>\n",
       "      <td>-0.210075</td>\n",
       "    </tr>\n",
       "    <tr>\n",
       "      <th>13</th>\n",
       "      <td>is_promo</td>\n",
       "      <td>0.0</td>\n",
       "      <td>1.0</td>\n",
       "      <td>1.0</td>\n",
       "      <td>0.171835</td>\n",
       "      <td>0.0</td>\n",
       "      <td>0.377237</td>\n",
       "      <td>1.739838</td>\n",
       "      <td>1.027039</td>\n",
       "    </tr>\n",
       "  </tbody>\n",
       "</table>\n",
       "</div>"
      ],
      "text/plain": [
       "                       atributos     min       max     range        média   \n",
       "0                          store     1.0    1115.0    1114.0   558.429727  \\\n",
       "1                    day_of_week     1.0       7.0       6.0     3.998341   \n",
       "2                          sales     0.0   41551.0   41551.0  5773.818972   \n",
       "3                      customers     0.0    7388.0    7388.0   633.145946   \n",
       "4                           open     0.0       1.0       1.0     0.830107   \n",
       "5                          promo     0.0       1.0       1.0     0.381515   \n",
       "6                 school_holiday     0.0       1.0       1.0     0.178647   \n",
       "7           competition_distance    20.0  200000.0  199980.0  5935.442677   \n",
       "8   competition_open_since_month     1.0      12.0      11.0     6.786849   \n",
       "9    competition_open_since_year  1900.0    2015.0     115.0  2010.324840   \n",
       "10                        promo2     0.0       1.0       1.0     0.500564   \n",
       "11             promo2_since_week     1.0      52.0      51.0    23.619033   \n",
       "12             promo2_since_year  2009.0    2015.0       6.0  2012.793297   \n",
       "13                      is_promo     0.0       1.0       1.0     0.171835   \n",
       "\n",
       "    mediana  desvio_padrao       skew    kurtosis  \n",
       "0     558.0     321.908493  -0.000955   -1.200524  \n",
       "1       4.0       1.997390   0.001593   -1.246873  \n",
       "2    5744.0    3849.924283   0.641460    1.778375  \n",
       "3     609.0     464.411506   1.598650    7.091773  \n",
       "4       1.0       0.375539  -1.758045    1.090723  \n",
       "5       0.0       0.485758   0.487838   -1.762018  \n",
       "6       0.0       0.383056   1.677842    0.815154  \n",
       "7    2330.0   12547.646829  10.242344  147.789712  \n",
       "8       7.0       3.311085  -0.042076   -1.232607  \n",
       "9    2012.0       5.515591  -7.235657  124.071304  \n",
       "10      1.0       0.500000  -0.002255   -1.999999  \n",
       "11     22.0      14.310057   0.178723   -1.184046  \n",
       "12   2013.0       1.662657  -0.784436   -0.210075  \n",
       "13      0.0       0.377237   1.739838    1.027039  "
      ]
     },
     "execution_count": 77,
     "metadata": {},
     "output_type": "execute_result"
    }
   ],
   "source": [
    "metricas"
   ]
  },
  {
   "cell_type": "markdown",
   "id": "b2f34232",
   "metadata": {},
   "source": [
    "Analisando a coluna vaiável **'sales'** vemos que a média e a mediana tem valores muito próximos, significa que o deslocamento da minha normal não é grande, representado pela skew que é bem próxima de zero, e a kurtosis também é muito próximo de 1, que significa que não tenho um pico muito grande."
   ]
  },
  {
   "cell_type": "code",
   "execution_count": 110,
   "id": "918e5a1b",
   "metadata": {
    "ExecuteTime": {
     "end_time": "2023-04-24T19:40:05.165354Z",
     "start_time": "2023-04-24T19:40:01.736598Z"
    }
   },
   "outputs": [
    {
     "data": {
      "text/plain": [
       "<seaborn.axisgrid.FacetGrid at 0x203251df990>"
      ]
     },
     "execution_count": 110,
     "metadata": {},
     "output_type": "execute_result"
    },
    {
     "data": {
      "image/png": "[encoded data removed]",
      "text/plain": [
       "<Figure size 500x500 with 1 Axes>"
      ]
     },
     "metadata": {},
     "output_type": "display_data"
    }
   ],
   "source": [
    "sns.displot(df_1['sales'])"
   ]
  },
  {
   "cell_type": "markdown",
   "id": "8d789734",
   "metadata": {},
   "source": [
    "Agora analisando a **competition_distance** vemos que o minimo é 20, que significa que o concorrente mais próximo está a 20 metros. A skew tá em 10 que é um valor muito alto, está muito deslocada para a esquerda (positivo) e uma kurtosis gigantesca, aqui já conseguimos concluir que é um distribuição de dados que tem um pico muito alto depois vai caindo, que significa que tem uma concentração de valores muito alta no começo, muitos concorrentes próximos, a distância entre as lojas concorrentes é pequena."
   ]
  },
  {
   "cell_type": "code",
   "execution_count": 111,
   "id": "fcde31bf",
   "metadata": {
    "ExecuteTime": {
     "end_time": "2023-04-24T19:40:20.592499Z",
     "start_time": "2023-04-24T19:40:13.885407Z"
    }
   },
   "outputs": [
    {
     "data": {
      "text/plain": [
       "<seaborn.axisgrid.FacetGrid at 0x203251e3d10>"
      ]
     },
     "execution_count": 111,
     "metadata": {},
     "output_type": "execute_result"
    },
    {
     "data": {
      "image/png": "[encoded data removed]",
      "text/plain": [
       "<Figure size 500x500 with 1 Axes>"
      ]
     },
     "metadata": {},
     "output_type": "display_data"
    }
   ],
   "source": [
    "sns.displot(df_1['competition_distance'])"
   ]
  },
  {
   "cell_type": "markdown",
   "id": "b0405ef4",
   "metadata": {},
   "source": [
    "Na variável **customers** que é o número de clientes em um determinado dia, se vemos a média e o desvio padrão conseguimos concluir que as vezes temos dias que tiveram 1000 clientes e as vezes 200 clientes, tirando assim uma média de una 600 clientes por dia."
   ]
  },
  {
   "cell_type": "code",
   "execution_count": 113,
   "id": "467c623b",
   "metadata": {
    "ExecuteTime": {
     "end_time": "2023-04-24T19:40:53.763510Z",
     "start_time": "2023-04-24T19:40:49.948743Z"
    }
   },
   "outputs": [
    {
     "data": {
      "text/plain": [
       "<seaborn.axisgrid.FacetGrid at 0x2031e8a2290>"
      ]
     },
     "execution_count": 113,
     "metadata": {},
     "output_type": "execute_result"
    },
    {
     "data": {
      "image/png": "[encoded data removed]",
      "text/plain": [
       "<Figure size 500x500 with 1 Axes>"
      ]
     },
     "metadata": {},
     "output_type": "display_data"
    }
   ],
   "source": [
    "sns.displot(df_1['customers'])"
   ]
  },
  {
   "cell_type": "markdown",
   "id": "ae5cabef",
   "metadata": {},
   "source": [
    "#### Análise Variáveis categoricas"
   ]
  },
  {
   "cell_type": "markdown",
   "id": "02a92c8f",
   "metadata": {},
   "source": [
    "**State_holiday** - indica um feriado estadual. Normalmente, todas as lojas, com poucas exceções, estão fechadas em feriados estaduais. Note que todas as escolas estão fechadas em feriados e fins de semana. a = feriado, b = feriado de Páscoa, c = Natal, 0 = Nenhum.\n",
    "\n",
    "**store_type** - diferencia entre 4 modelos de lojas diferentes: a, b, c, d.\n",
    "\n",
    "**assortment** - descreve um nível de sortimento: a = básico, b = extra, c = estendido."
   ]
  },
  {
   "cell_type": "code",
   "execution_count": 115,
   "id": "bf7e845c",
   "metadata": {
    "ExecuteTime": {
     "end_time": "2023-04-24T19:44:18.412401Z",
     "start_time": "2023-04-24T19:44:17.959310Z"
    }
   },
   "outputs": [
    {
     "data": {
      "text/plain": [
       "state_holiday      4\n",
       "store_type         4\n",
       "assortment         3\n",
       "promo_interval     4\n",
       "month_map         12\n",
       "dtype: int64"
      ]
     },
     "execution_count": 115,
     "metadata": {},
     "output_type": "execute_result"
    }
   ],
   "source": [
    "atributos_categoricos.apply(lambda x: x.unique().shape[0])"
   ]
  },
  {
   "cell_type": "code",
   "execution_count": 126,
   "id": "fff909ed",
   "metadata": {
    "ExecuteTime": {
     "end_time": "2023-04-24T19:58:57.986569Z",
     "start_time": "2023-04-24T19:58:57.546191Z"
    }
   },
   "outputs": [
    {
     "data": {
      "text/plain": [
       "<Axes: xlabel='state_holiday', ylabel='sales'>"
      ]
     },
     "execution_count": 126,
     "metadata": {},
     "output_type": "execute_result"
    },
    {
     "data": {
      "image/png": "[encoded data removed]",
      "text/plain": [
       "<Figure size 640x480 with 1 Axes>"
      ]
     },
     "metadata": {},
     "output_type": "display_data"
    }
   ],
   "source": [
    "# Tirar os dias que não tiveram venda porque a loja estava fechada e somente vendas acima de 0.\n",
    "aux_1 = df_1[(df_1['state_holiday']!= '0') & (df_1['sales'] > 0)]\n",
    "sns.boxplot(x='state_holiday', y='sales', data=aux_1)"
   ]
  },
  {
   "cell_type": "code",
   "execution_count": 138,
   "id": "690a2b46",
   "metadata": {
    "ExecuteTime": {
     "end_time": "2023-04-24T20:11:20.710758Z",
     "start_time": "2023-04-24T20:11:20.297164Z"
    }
   },
   "outputs": [
    {
     "data": {
      "text/plain": [
       "<Axes: xlabel='store_type', ylabel='sales'>"
      ]
     },
     "execution_count": 138,
     "metadata": {},
     "output_type": "execute_result"
    },
    {
     "data": {
      "image/png": "[encoded data removed]",
      "text/plain": [
       "<Figure size 640x480 with 1 Axes>"
      ]
     },
     "metadata": {},
     "output_type": "display_data"
    }
   ],
   "source": [
    "sns.boxplot(x='store_type', y='sales', data=aux_1, fliersize=3)"
   ]
  },
  {
   "cell_type": "code",
   "execution_count": 128,
   "id": "084d8416",
   "metadata": {
    "ExecuteTime": {
     "end_time": "2023-04-24T19:59:09.959397Z",
     "start_time": "2023-04-24T19:59:09.636680Z"
    }
   },
   "outputs": [
    {
     "data": {
      "text/plain": [
       "<Axes: xlabel='assortment', ylabel='sales'>"
      ]
     },
     "execution_count": 128,
     "metadata": {},
     "output_type": "execute_result"
    },
    {
     "data": {
      "image/png": "[encoded data removed]",
      "text/plain": [
       "<Figure size 640x480 with 1 Axes>"
      ]
     },
     "metadata": {},
     "output_type": "display_data"
    }
   ],
   "source": [
    "sns.boxplot(x='assortment', y='sales', data=aux_1)"
   ]
  }
 ],
 "metadata": {
  "kernelspec": {
   "display_name": "Python 3 (ipykernel)",
   "language": "python",
   "name": "python3"
  },
  "language_info": {
   "codemirror_mode": {
    "name": "ipython",
    "version": 3
   },
   "file_extension": ".py",
   "mimetype": "text/x-python",
   "name": "python",
   "nbconvert_exporter": "python",
   "pygments_lexer": "ipython3",
   "version": "3.11.2"
  },
  "toc": {
   "base_numbering": 1,
   "nav_menu": {},
   "number_sections": true,
   "sideBar": true,
   "skip_h1_title": false,
   "title_cell": "Table of Contents",
   "title_sidebar": "Contents",
   "toc_cell": false,
   "toc_position": {},
   "toc_section_display": true,
   "toc_window_display": false
  },
  "varInspector": {
   "cols": {
    "lenName": 16,
    "lenType": 16,
    "lenVar": 40
   },
   "kernels_config": {
    "python": {
     "delete_cmd_postfix": "",
     "delete_cmd_prefix": "del ",
     "library": "var_list.py",
     "varRefreshCmd": "print(var_dic_list())"
    },
    "r": {
     "delete_cmd_postfix": ") ",
     "delete_cmd_prefix": "rm(",
     "library": "var_list.r",
     "varRefreshCmd": "cat(var_dic_list()) "
    }
   },
   "position": {
    "height": "144.659px",
    "left": "447.909px",
    "right": "20px",
    "top": "118.991px",
    "width": "350px"
   },
   "types_to_exclude": [
    "module",
    "function",
    "builtin_function_or_method",
    "instance",
    "_Feature"
   ],
   "window_display": false
  }
 },
 "nbformat": 4,
 "nbformat_minor": 5
}
